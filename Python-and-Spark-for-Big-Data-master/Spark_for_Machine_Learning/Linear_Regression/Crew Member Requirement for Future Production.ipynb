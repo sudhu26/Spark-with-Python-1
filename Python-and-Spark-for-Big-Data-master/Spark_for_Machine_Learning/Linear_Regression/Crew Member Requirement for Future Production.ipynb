{
 "cells": [
  {
   "cell_type": "markdown",
   "metadata": {},
   "source": [
    "**Research Question**: Create a regression model that will help predict how many crew members will be needed for future ships."
   ]
  },
  {
   "cell_type": "code",
   "execution_count": 16,
   "metadata": {},
   "outputs": [],
   "source": [
    "import findspark\n",
    "findspark.init('/home/shashank/spark-2.3.2-bin-hadoop2.7')\n",
    "import pyspark\n",
    "from pyspark.sql import SparkSession\n",
    "spark = SparkSession.builder.appName('lr_codealong').getOrCreate()\n",
    "from pyspark.ml.regression import LinearRegression"
   ]
  },
  {
   "cell_type": "code",
   "execution_count": 17,
   "metadata": {},
   "outputs": [],
   "source": [
    "data = spark.read.csv(\"cruise_ship_info.csv\", inferSchema=True, header=True)"
   ]
  },
  {
   "cell_type": "markdown",
   "metadata": {},
   "source": [
    "# Explore Data"
   ]
  },
  {
   "cell_type": "code",
   "execution_count": 18,
   "metadata": {},
   "outputs": [
    {
     "name": "stdout",
     "output_type": "stream",
     "text": [
      "root\n",
      " |-- Ship_name: string (nullable = true)\n",
      " |-- Cruise_line: string (nullable = true)\n",
      " |-- Age: integer (nullable = true)\n",
      " |-- Tonnage: double (nullable = true)\n",
      " |-- passengers: double (nullable = true)\n",
      " |-- length: double (nullable = true)\n",
      " |-- cabins: double (nullable = true)\n",
      " |-- passenger_density: double (nullable = true)\n",
      " |-- crew: double (nullable = true)\n",
      "\n"
     ]
    }
   ],
   "source": [
    "data.printSchema()"
   ]
  },
  {
   "cell_type": "code",
   "execution_count": 19,
   "metadata": {},
   "outputs": [
    {
     "data": {
      "text/plain": [
       "158"
      ]
     },
     "execution_count": 19,
     "metadata": {},
     "output_type": "execute_result"
    }
   ],
   "source": [
    "data.count()"
   ]
  },
  {
   "cell_type": "code",
   "execution_count": 20,
   "metadata": {},
   "outputs": [],
   "source": [
    "data.createOrReplaceTempView('data_sql')"
   ]
  },
  {
   "cell_type": "code",
   "execution_count": 21,
   "metadata": {},
   "outputs": [
    {
     "name": "stdout",
     "output_type": "stream",
     "text": [
      "+-----------+-----------+---+------------------+----------+------+------+-----------------+----+\n",
      "|  Ship_name|Cruise_line|Age|           Tonnage|passengers|length|cabins|passenger_density|crew|\n",
      "+-----------+-----------+---+------------------+----------+------+------+-----------------+----+\n",
      "|    Journey|    Azamara|  6|30.276999999999997|      6.94|  5.94|  3.55|            42.64|3.55|\n",
      "|      Quest|    Azamara|  6|30.276999999999997|      6.94|  5.94|  3.55|            42.64|3.55|\n",
      "|Celebration|   Carnival| 26|            47.262|     14.86|  7.22|  7.43|             31.8| 6.7|\n",
      "|   Conquest|   Carnival| 11|             110.0|     29.74|  9.53| 14.88|            36.99|19.1|\n",
      "|    Destiny|   Carnival| 17|           101.353|     26.42|  8.92| 13.21|            38.36|10.0|\n",
      "|    Ecstasy|   Carnival| 22|            70.367|     20.52|  8.55|  10.2|            34.29| 9.2|\n",
      "|    Elation|   Carnival| 15|            70.367|     20.52|  8.55|  10.2|            34.29| 9.2|\n",
      "|    Fantasy|   Carnival| 23|            70.367|     20.56|  8.55| 10.22|            34.23| 9.2|\n",
      "|Fascination|   Carnival| 19|            70.367|     20.52|  8.55|  10.2|            34.29| 9.2|\n",
      "|    Freedom|   Carnival|  6|110.23899999999999|      37.0|  9.51| 14.87|            29.79|11.5|\n",
      "|      Glory|   Carnival| 10|             110.0|     29.74|  9.51| 14.87|            36.99|11.6|\n",
      "|    Holiday|   Carnival| 28|            46.052|     14.52|  7.27|  7.26|            31.72| 6.6|\n",
      "|Imagination|   Carnival| 18|            70.367|     20.52|  8.55|  10.2|            34.29| 9.2|\n",
      "|Inspiration|   Carnival| 17|            70.367|     20.52|  8.55|  10.2|            34.29| 9.2|\n",
      "|     Legend|   Carnival| 11|              86.0|     21.24|  9.63| 10.62|            40.49| 9.3|\n",
      "|   Liberty*|   Carnival|  8|             110.0|     29.74|  9.51| 14.87|            36.99|11.6|\n",
      "|    Miracle|   Carnival|  9|              88.5|     21.24|  9.63| 10.62|            41.67|10.3|\n",
      "|   Paradise|   Carnival| 15|            70.367|     20.52|  8.55|  10.2|            34.29| 9.2|\n",
      "|      Pride|   Carnival| 12|              88.5|     21.24|  9.63| 11.62|            41.67| 9.3|\n",
      "|  Sensation|   Carnival| 20|            70.367|     20.52|  8.55|  10.2|            34.29| 9.2|\n",
      "+-----------+-----------+---+------------------+----------+------+------+-----------------+----+\n",
      "only showing top 20 rows\n",
      "\n"
     ]
    }
   ],
   "source": [
    "spark.sql(\"FROM data_sql SELECT *\").show()"
   ]
  },
  {
   "cell_type": "code",
   "execution_count": 22,
   "metadata": {},
   "outputs": [
    {
     "data": {
      "text/plain": [
       "Row(Costa=0, P&O=0, Cunard=0, Regent_Seven_Seas=0, MSC=0, Carnival=0, Crystal=0, Orient=0, Princess=0, Silversea=0, Seabourn=0, Holland_American=0, Windstar=0, Disney=0, Norwegian=0, Oceania=0, Azamara=1, Celebrity=0, Star=0, Royal_Caribbean=0, Ship_name='Journey', Cruise_line='Azamara', Age=6, Tonnage=30.276999999999997, passengers=6.94, length=5.94, cabins=3.55, passenger_density=42.64, crew=3.55)"
      ]
     },
     "execution_count": 22,
     "metadata": {},
     "output_type": "execute_result"
    }
   ],
   "source": [
    "#convert string to dummies\n",
    "import pyspark.sql.functions as F\n",
    "data_cat = data.select('Cruise_line').distinct().rdd.flatMap(lambda x:x).collect()\n",
    "exprs = [F.when(F.col('Cruise_line') == i, 1).otherwise(0).alias(str(i)) for i in data_cat]\n",
    "data = data.select(exprs+data.columns)\n",
    "data.head()"
   ]
  },
  {
   "cell_type": "code",
   "execution_count": 23,
   "metadata": {},
   "outputs": [
    {
     "name": "stdout",
     "output_type": "stream",
     "text": [
      "root\n",
      " |-- Costa: integer (nullable = false)\n",
      " |-- P&O: integer (nullable = false)\n",
      " |-- Cunard: integer (nullable = false)\n",
      " |-- Regent_Seven_Seas: integer (nullable = false)\n",
      " |-- MSC: integer (nullable = false)\n",
      " |-- Carnival: integer (nullable = false)\n",
      " |-- Crystal: integer (nullable = false)\n",
      " |-- Orient: integer (nullable = false)\n",
      " |-- Princess: integer (nullable = false)\n",
      " |-- Silversea: integer (nullable = false)\n",
      " |-- Seabourn: integer (nullable = false)\n",
      " |-- Holland_American: integer (nullable = false)\n",
      " |-- Windstar: integer (nullable = false)\n",
      " |-- Disney: integer (nullable = false)\n",
      " |-- Norwegian: integer (nullable = false)\n",
      " |-- Oceania: integer (nullable = false)\n",
      " |-- Azamara: integer (nullable = false)\n",
      " |-- Celebrity: integer (nullable = false)\n",
      " |-- Star: integer (nullable = false)\n",
      " |-- Royal_Caribbean: integer (nullable = false)\n",
      " |-- Ship_name: string (nullable = true)\n",
      " |-- Cruise_line: string (nullable = true)\n",
      " |-- Age: integer (nullable = true)\n",
      " |-- Tonnage: double (nullable = true)\n",
      " |-- passengers: double (nullable = true)\n",
      " |-- length: double (nullable = true)\n",
      " |-- cabins: double (nullable = true)\n",
      " |-- passenger_density: double (nullable = true)\n",
      " |-- crew: double (nullable = true)\n",
      "\n"
     ]
    }
   ],
   "source": [
    "data.printSchema()"
   ]
  },
  {
   "cell_type": "code",
   "execution_count": 24,
   "metadata": {},
   "outputs": [],
   "source": [
    "#Import Vectors and Vector Assembler\n",
    "from pyspark.ml.linalg import Vectors\n",
    "from pyspark.ml.feature import VectorAssembler"
   ]
  },
  {
   "cell_type": "code",
   "execution_count": 25,
   "metadata": {},
   "outputs": [
    {
     "data": {
      "text/plain": [
       "['Costa',\n",
       " 'P&O',\n",
       " 'Cunard',\n",
       " 'Regent_Seven_Seas',\n",
       " 'MSC',\n",
       " 'Carnival',\n",
       " 'Crystal',\n",
       " 'Orient',\n",
       " 'Princess',\n",
       " 'Silversea',\n",
       " 'Seabourn',\n",
       " 'Holland_American',\n",
       " 'Windstar',\n",
       " 'Disney',\n",
       " 'Norwegian',\n",
       " 'Oceania',\n",
       " 'Azamara',\n",
       " 'Celebrity',\n",
       " 'Star',\n",
       " 'Royal_Caribbean',\n",
       " 'Ship_name',\n",
       " 'Cruise_line',\n",
       " 'Age',\n",
       " 'Tonnage',\n",
       " 'passengers',\n",
       " 'length',\n",
       " 'cabins',\n",
       " 'passenger_density',\n",
       " 'crew']"
      ]
     },
     "execution_count": 25,
     "metadata": {},
     "output_type": "execute_result"
    }
   ],
   "source": [
    "data.columns"
   ]
  },
  {
   "cell_type": "code",
   "execution_count": 26,
   "metadata": {},
   "outputs": [],
   "source": [
    "assemble = VectorAssembler(inputCols=['Costa', 'P&O',  'Cunard',  'Regent_Seven_Seas',  'MSC',  'Carnival',  'Crystal', \\\n",
    " 'Orient',  'Princess',  'Silversea',  'Seabourn',  'Holland_American',  'Windstar',  'Disney','Norwegian', 'Oceania', \\\n",
    " 'Azamara',  'Celebrity', 'Star', 'Royal_Caribbean', 'Age', 'Tonnage', 'passengers', 'length', 'cabins', \\\n",
    "                                      'passenger_density'], outputCol= 'features')"
   ]
  },
  {
   "cell_type": "code",
   "execution_count": 27,
   "metadata": {},
   "outputs": [],
   "source": [
    "output = assemble.transform(data)"
   ]
  },
  {
   "cell_type": "code",
   "execution_count": 28,
   "metadata": {},
   "outputs": [
    {
     "name": "stdout",
     "output_type": "stream",
     "text": [
      "root\n",
      " |-- Costa: integer (nullable = false)\n",
      " |-- P&O: integer (nullable = false)\n",
      " |-- Cunard: integer (nullable = false)\n",
      " |-- Regent_Seven_Seas: integer (nullable = false)\n",
      " |-- MSC: integer (nullable = false)\n",
      " |-- Carnival: integer (nullable = false)\n",
      " |-- Crystal: integer (nullable = false)\n",
      " |-- Orient: integer (nullable = false)\n",
      " |-- Princess: integer (nullable = false)\n",
      " |-- Silversea: integer (nullable = false)\n",
      " |-- Seabourn: integer (nullable = false)\n",
      " |-- Holland_American: integer (nullable = false)\n",
      " |-- Windstar: integer (nullable = false)\n",
      " |-- Disney: integer (nullable = false)\n",
      " |-- Norwegian: integer (nullable = false)\n",
      " |-- Oceania: integer (nullable = false)\n",
      " |-- Azamara: integer (nullable = false)\n",
      " |-- Celebrity: integer (nullable = false)\n",
      " |-- Star: integer (nullable = false)\n",
      " |-- Royal_Caribbean: integer (nullable = false)\n",
      " |-- Ship_name: string (nullable = true)\n",
      " |-- Cruise_line: string (nullable = true)\n",
      " |-- Age: integer (nullable = true)\n",
      " |-- Tonnage: double (nullable = true)\n",
      " |-- passengers: double (nullable = true)\n",
      " |-- length: double (nullable = true)\n",
      " |-- cabins: double (nullable = true)\n",
      " |-- passenger_density: double (nullable = true)\n",
      " |-- crew: double (nullable = true)\n",
      " |-- features: vector (nullable = true)\n",
      "\n"
     ]
    }
   ],
   "source": [
    "output.printSchema() #features vector present"
   ]
  },
  {
   "cell_type": "markdown",
   "metadata": {},
   "source": [
    "# Select final data"
   ]
  },
  {
   "cell_type": "code",
   "execution_count": 29,
   "metadata": {},
   "outputs": [],
   "source": [
    "output.createOrReplaceTempView('output_sql')"
   ]
  },
  {
   "cell_type": "code",
   "execution_count": 30,
   "metadata": {},
   "outputs": [],
   "source": [
    "final_data = spark.sql(\"FROM output_sql SELECT features, crew AS label\")"
   ]
  },
  {
   "cell_type": "code",
   "execution_count": 31,
   "metadata": {},
   "outputs": [
    {
     "name": "stdout",
     "output_type": "stream",
     "text": [
      "+--------------------+-----+\n",
      "|            features|label|\n",
      "+--------------------+-----+\n",
      "|(26,[16,20,21,22,...| 3.55|\n",
      "|(26,[16,20,21,22,...| 3.55|\n",
      "|(26,[5,20,21,22,2...|  6.7|\n",
      "|(26,[5,20,21,22,2...| 19.1|\n",
      "|(26,[5,20,21,22,2...| 10.0|\n",
      "|(26,[5,20,21,22,2...|  9.2|\n",
      "|(26,[5,20,21,22,2...|  9.2|\n",
      "|(26,[5,20,21,22,2...|  9.2|\n",
      "|(26,[5,20,21,22,2...|  9.2|\n",
      "|(26,[5,20,21,22,2...| 11.5|\n",
      "|(26,[5,20,21,22,2...| 11.6|\n",
      "|(26,[5,20,21,22,2...|  6.6|\n",
      "|(26,[5,20,21,22,2...|  9.2|\n",
      "|(26,[5,20,21,22,2...|  9.2|\n",
      "|(26,[5,20,21,22,2...|  9.3|\n",
      "|(26,[5,20,21,22,2...| 11.6|\n",
      "|(26,[5,20,21,22,2...| 10.3|\n",
      "|(26,[5,20,21,22,2...|  9.2|\n",
      "|(26,[5,20,21,22,2...|  9.3|\n",
      "|(26,[5,20,21,22,2...|  9.2|\n",
      "+--------------------+-----+\n",
      "only showing top 20 rows\n",
      "\n"
     ]
    }
   ],
   "source": [
    "final_data.show()"
   ]
  },
  {
   "cell_type": "code",
   "execution_count": 33,
   "metadata": {},
   "outputs": [
    {
     "name": "stdout",
     "output_type": "stream",
     "text": [
      "Train Count: 114\n",
      "Test Count: 44\n"
     ]
    }
   ],
   "source": [
    "#Create train, test data\n",
    "\n",
    "train,test = final_data.randomSplit([0.7,0.3])\n",
    "print(\"Train Count: {}\".format(train.count()))\n",
    "print(\"Test Count: {}\".format(test.count()))"
   ]
  },
  {
   "cell_type": "code",
   "execution_count": 34,
   "metadata": {},
   "outputs": [
    {
     "name": "stdout",
     "output_type": "stream",
     "text": [
      "+-------+------------------+\n",
      "|summary|             label|\n",
      "+-------+------------------+\n",
      "|  count|               114|\n",
      "|   mean|   7.8961403508772|\n",
      "| stddev|3.6882023126058834|\n",
      "|    min|              0.59|\n",
      "|    max|              21.0|\n",
      "+-------+------------------+\n",
      "\n",
      "None\n",
      "+-------+------------------+\n",
      "|summary|             label|\n",
      "+-------+------------------+\n",
      "|  count|                44|\n",
      "|   mean| 7.529999999999998|\n",
      "| stddev|2.9949849555082793|\n",
      "|    min|              0.59|\n",
      "|    max|              13.6|\n",
      "+-------+------------------+\n",
      "\n",
      "None\n"
     ]
    }
   ],
   "source": [
    "print(train.describe().show())\n",
    "print(test.describe().show())"
   ]
  },
  {
   "cell_type": "code",
   "execution_count": 36,
   "metadata": {},
   "outputs": [],
   "source": [
    "#linear regression model\n",
    "lr = LinearRegression()\n",
    "lr.model = lr.fit(train)"
   ]
  },
  {
   "cell_type": "code",
   "execution_count": 37,
   "metadata": {},
   "outputs": [],
   "source": [
    "test_results = lr.model.evaluate(test)"
   ]
  },
  {
   "cell_type": "code",
   "execution_count": 39,
   "metadata": {},
   "outputs": [
    {
     "name": "stdout",
     "output_type": "stream",
     "text": [
      "RMSE: 0.7625538653682009\n",
      "R-square 0.9336660308807528\n"
     ]
    }
   ],
   "source": [
    "print(\"RMSE: {}\".format(test_results.rootMeanSquaredError))\n",
    "print(\"R-square {}\".format(test_results.r2))"
   ]
  },
  {
   "cell_type": "code",
   "execution_count": 43,
   "metadata": {},
   "outputs": [
    {
     "name": "stdout",
     "output_type": "stream",
     "text": [
      "+-------+-----------------+\n",
      "|summary|             crew|\n",
      "+-------+-----------------+\n",
      "|  count|              158|\n",
      "|   mean|7.794177215189873|\n",
      "| stddev|3.503486564627034|\n",
      "|    min|             0.59|\n",
      "|    max|             21.0|\n",
      "+-------+-----------------+\n",
      "\n"
     ]
    }
   ],
   "source": [
    "data.select('crew').describe().show()"
   ]
  },
  {
   "cell_type": "markdown",
   "metadata": {},
   "source": [
    "**Compared to mean and SD, the RMSE looks good**"
   ]
  },
  {
   "cell_type": "code",
   "execution_count": 44,
   "metadata": {},
   "outputs": [],
   "source": [
    "#Explore really high R2, - high correlations?\n",
    "from pyspark.sql.functions import corr"
   ]
  },
  {
   "cell_type": "code",
   "execution_count": 46,
   "metadata": {},
   "outputs": [
    {
     "name": "stdout",
     "output_type": "stream",
     "text": [
      "+----------------------+\n",
      "|corr(passengers, crew)|\n",
      "+----------------------+\n",
      "|    0.9152341306065384|\n",
      "+----------------------+\n",
      "\n"
     ]
    }
   ],
   "source": [
    "spark.sql(\"FROM data_sql SELECT corr(passengers, crew)\").show() #high"
   ]
  },
  {
   "cell_type": "code",
   "execution_count": 48,
   "metadata": {},
   "outputs": [
    {
     "name": "stdout",
     "output_type": "stream",
     "text": [
      "+------------------+\n",
      "|corr(cabins, crew)|\n",
      "+------------------+\n",
      "|0.9508226063578497|\n",
      "+------------------+\n",
      "\n"
     ]
    }
   ],
   "source": [
    "spark.sql(\"FROM data_sql SELECT corr(cabins, crew)\").show() #high"
   ]
  },
  {
   "cell_type": "code",
   "execution_count": 49,
   "metadata": {},
   "outputs": [
    {
     "name": "stdout",
     "output_type": "stream",
     "text": [
      "+-------------------------------+\n",
      "|corr(CAST(Age AS DOUBLE), crew)|\n",
      "+-------------------------------+\n",
      "|            -0.5306565039638852|\n",
      "+-------------------------------+\n",
      "\n"
     ]
    }
   ],
   "source": [
    "spark.sql(\"FROM data_sql SELECT corr(Age, crew)\").show() #ok"
   ]
  },
  {
   "cell_type": "code",
   "execution_count": 50,
   "metadata": {},
   "outputs": [
    {
     "name": "stdout",
     "output_type": "stream",
     "text": [
      "+-------------------+\n",
      "|corr(Tonnage, crew)|\n",
      "+-------------------+\n",
      "| 0.9275688115449388|\n",
      "+-------------------+\n",
      "\n"
     ]
    }
   ],
   "source": [
    "spark.sql(\"FROM data_sql SELECT corr(Tonnage, crew)\").show() #high"
   ]
  },
  {
   "cell_type": "code",
   "execution_count": 51,
   "metadata": {},
   "outputs": [
    {
     "name": "stdout",
     "output_type": "stream",
     "text": [
      "+------------------+\n",
      "|corr(length, crew)|\n",
      "+------------------+\n",
      "| 0.895856627101658|\n",
      "+------------------+\n",
      "\n"
     ]
    }
   ],
   "source": [
    "spark.sql(\"FROM data_sql SELECT corr(length, crew)\").show() #high"
   ]
  },
  {
   "cell_type": "markdown",
   "metadata": {},
   "source": [
    "The model does a good job of predicting the number of crew required based on different characteristics. <br>\n",
    "We also notice that the correlation for Passengers, Tonnage, Length, and Cabins is high and positive with number of crew members."
   ]
  },
  {
   "cell_type": "code",
   "execution_count": null,
   "metadata": {},
   "outputs": [],
   "source": []
  }
 ],
 "metadata": {
  "kernelspec": {
   "display_name": "Python 3",
   "language": "python",
   "name": "python3"
  },
  "language_info": {
   "codemirror_mode": {
    "name": "ipython",
    "version": 3
   },
   "file_extension": ".py",
   "mimetype": "text/x-python",
   "name": "python",
   "nbconvert_exporter": "python",
   "pygments_lexer": "ipython3",
   "version": "3.6.6"
  }
 },
 "nbformat": 4,
 "nbformat_minor": 2
}
