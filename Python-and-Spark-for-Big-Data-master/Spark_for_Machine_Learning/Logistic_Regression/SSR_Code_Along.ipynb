{
 "cells": [
  {
   "cell_type": "code",
   "execution_count": 1,
   "metadata": {},
   "outputs": [],
   "source": [
    "import findspark"
   ]
  },
  {
   "cell_type": "code",
   "execution_count": 2,
   "metadata": {},
   "outputs": [],
   "source": [
    "findspark.init('/home/shashank/spark-2.3.2-bin-hadoop2.7')"
   ]
  },
  {
   "cell_type": "code",
   "execution_count": 3,
   "metadata": {},
   "outputs": [],
   "source": [
    "import pyspark"
   ]
  },
  {
   "cell_type": "code",
   "execution_count": 4,
   "metadata": {},
   "outputs": [],
   "source": [
    "from pyspark.sql import SparkSession"
   ]
  },
  {
   "cell_type": "code",
   "execution_count": 5,
   "metadata": {},
   "outputs": [],
   "source": [
    "spark = SparkSession.builder.appName('logR').getOrCreate()"
   ]
  },
  {
   "cell_type": "code",
   "execution_count": 6,
   "metadata": {},
   "outputs": [],
   "source": [
    "from pyspark.ml.classification import LogisticRegression"
   ]
  },
  {
   "cell_type": "code",
   "execution_count": 7,
   "metadata": {},
   "outputs": [],
   "source": [
    "from pyspark.ml.evaluation import BinaryClassificationEvaluator, MulticlassClassificationEvaluator"
   ]
  },
  {
   "cell_type": "code",
   "execution_count": 9,
   "metadata": {},
   "outputs": [],
   "source": [
    "data = spark.read.csv('titanic.csv', inferSchema=True, header=True)"
   ]
  },
  {
   "cell_type": "code",
   "execution_count": 10,
   "metadata": {},
   "outputs": [],
   "source": [
    "data.createOrReplaceTempView('data')"
   ]
  },
  {
   "cell_type": "code",
   "execution_count": 11,
   "metadata": {},
   "outputs": [
    {
     "name": "stdout",
     "output_type": "stream",
     "text": [
      "+-----------+--------+------+--------------------+------+----+-----+-----+----------------+-------+-----+--------+\n",
      "|PassengerId|Survived|Pclass|                Name|   Sex| Age|SibSp|Parch|          Ticket|   Fare|Cabin|Embarked|\n",
      "+-----------+--------+------+--------------------+------+----+-----+-----+----------------+-------+-----+--------+\n",
      "|          1|       0|     3|Braund, Mr. Owen ...|  male|22.0|    1|    0|       A/5 21171|   7.25| null|       S|\n",
      "|          2|       1|     1|Cumings, Mrs. Joh...|female|38.0|    1|    0|        PC 17599|71.2833|  C85|       C|\n",
      "|          3|       1|     3|Heikkinen, Miss. ...|female|26.0|    0|    0|STON/O2. 3101282|  7.925| null|       S|\n",
      "|          4|       1|     1|Futrelle, Mrs. Ja...|female|35.0|    1|    0|          113803|   53.1| C123|       S|\n",
      "|          5|       0|     3|Allen, Mr. Willia...|  male|35.0|    0|    0|          373450|   8.05| null|       S|\n",
      "|          6|       0|     3|    Moran, Mr. James|  male|null|    0|    0|          330877| 8.4583| null|       Q|\n",
      "|          7|       0|     1|McCarthy, Mr. Tim...|  male|54.0|    0|    0|           17463|51.8625|  E46|       S|\n",
      "|          8|       0|     3|Palsson, Master. ...|  male| 2.0|    3|    1|          349909| 21.075| null|       S|\n",
      "|          9|       1|     3|Johnson, Mrs. Osc...|female|27.0|    0|    2|          347742|11.1333| null|       S|\n",
      "|         10|       1|     2|Nasser, Mrs. Nich...|female|14.0|    1|    0|          237736|30.0708| null|       C|\n",
      "|         11|       1|     3|Sandstrom, Miss. ...|female| 4.0|    1|    1|         PP 9549|   16.7|   G6|       S|\n",
      "|         12|       1|     1|Bonnell, Miss. El...|female|58.0|    0|    0|          113783|  26.55| C103|       S|\n",
      "|         13|       0|     3|Saundercock, Mr. ...|  male|20.0|    0|    0|       A/5. 2151|   8.05| null|       S|\n",
      "|         14|       0|     3|Andersson, Mr. An...|  male|39.0|    1|    5|          347082| 31.275| null|       S|\n",
      "|         15|       0|     3|Vestrom, Miss. Hu...|female|14.0|    0|    0|          350406| 7.8542| null|       S|\n",
      "|         16|       1|     2|Hewlett, Mrs. (Ma...|female|55.0|    0|    0|          248706|   16.0| null|       S|\n",
      "|         17|       0|     3|Rice, Master. Eugene|  male| 2.0|    4|    1|          382652| 29.125| null|       Q|\n",
      "|         18|       1|     2|Williams, Mr. Cha...|  male|null|    0|    0|          244373|   13.0| null|       S|\n",
      "|         19|       0|     3|Vander Planke, Mr...|female|31.0|    1|    0|          345763|   18.0| null|       S|\n",
      "|         20|       1|     3|Masselmani, Mrs. ...|female|null|    0|    0|            2649|  7.225| null|       C|\n",
      "+-----------+--------+------+--------------------+------+----+-----+-----+----------------+-------+-----+--------+\n",
      "only showing top 20 rows\n",
      "\n"
     ]
    }
   ],
   "source": [
    "spark.sql(\"FROM data SELECT *\").show()"
   ]
  },
  {
   "cell_type": "code",
   "execution_count": 12,
   "metadata": {},
   "outputs": [
    {
     "name": "stdout",
     "output_type": "stream",
     "text": [
      "root\n",
      " |-- PassengerId: integer (nullable = true)\n",
      " |-- Survived: integer (nullable = true)\n",
      " |-- Pclass: integer (nullable = true)\n",
      " |-- Name: string (nullable = true)\n",
      " |-- Sex: string (nullable = true)\n",
      " |-- Age: double (nullable = true)\n",
      " |-- SibSp: integer (nullable = true)\n",
      " |-- Parch: integer (nullable = true)\n",
      " |-- Ticket: string (nullable = true)\n",
      " |-- Fare: double (nullable = true)\n",
      " |-- Cabin: string (nullable = true)\n",
      " |-- Embarked: string (nullable = true)\n",
      "\n"
     ]
    }
   ],
   "source": [
    "data.printSchema()\n",
    "# string variables: Sex, Name, Ticket, Cabin, Embarked"
   ]
  },
  {
   "cell_type": "code",
   "execution_count": 13,
   "metadata": {},
   "outputs": [
    {
     "name": "stdout",
     "output_type": "stream",
     "text": [
      "+------+-----------+\n",
      "|   Sex|count(Name)|\n",
      "+------+-----------+\n",
      "|female|        314|\n",
      "|  male|        577|\n",
      "+------+-----------+\n",
      "\n"
     ]
    }
   ],
   "source": [
    "spark.sql(\"FROM data SELECT Sex, COUNT(Name) GROUP BY Sex\").show() #convert to numeric"
   ]
  },
  {
   "cell_type": "code",
   "execution_count": 14,
   "metadata": {},
   "outputs": [
    {
     "name": "stdout",
     "output_type": "stream",
     "text": [
      "+----------------+-----------+\n",
      "|          Ticket|count(Name)|\n",
      "+----------------+-----------+\n",
      "|          367230|          2|\n",
      "|       P/PP 3381|          2|\n",
      "|          244270|          1|\n",
      "|          363291|          3|\n",
      "|SOTON/OQ 3101317|          1|\n",
      "|           31418|          1|\n",
      "|           26360|          2|\n",
      "|            2700|          1|\n",
      "|           14313|          1|\n",
      "|          345763|          1|\n",
      "|       A/5 21172|          1|\n",
      "|          364500|          1|\n",
      "|           19877|          2|\n",
      "|          350029|          1|\n",
      "|          113800|          1|\n",
      "|      A/4. 39886|          1|\n",
      "|       C.A. 2673|          2|\n",
      "|          113807|          1|\n",
      "|        PC 17604|          2|\n",
      "|       C.A. 2315|          2|\n",
      "+----------------+-----------+\n",
      "only showing top 20 rows\n",
      "\n"
     ]
    }
   ],
   "source": [
    "spark.sql(\"FROM data SELECT Ticket, COUNT(Name) GROUP BY Ticket\").show() #not worth converting"
   ]
  },
  {
   "cell_type": "code",
   "execution_count": 15,
   "metadata": {},
   "outputs": [
    {
     "name": "stdout",
     "output_type": "stream",
     "text": [
      "+--------+-----------+\n",
      "|Embarked|count(Name)|\n",
      "+--------+-----------+\n",
      "|       Q|         77|\n",
      "|    null|          2|\n",
      "|       C|        168|\n",
      "|       S|        644|\n",
      "+--------+-----------+\n",
      "\n"
     ]
    }
   ],
   "source": [
    "spark.sql(\"FROM data SELECT Embarked, COUNT(Name) GROUP BY Embarked\").show() #convert to numeric # 2 nulls - drop"
   ]
  },
  {
   "cell_type": "code",
   "execution_count": 16,
   "metadata": {},
   "outputs": [
    {
     "name": "stdout",
     "output_type": "stream",
     "text": [
      "+-------+-----------+\n",
      "|  Cabin|count(Name)|\n",
      "+-------+-----------+\n",
      "|    A23|          1|\n",
      "|    B79|          1|\n",
      "|    E44|          2|\n",
      "|  F E69|          1|\n",
      "|    D28|          1|\n",
      "|    C78|          2|\n",
      "|    C95|          1|\n",
      "|  F G73|          2|\n",
      "|B58 B60|          2|\n",
      "|     D7|          1|\n",
      "|   C128|          1|\n",
      "|    B39|          1|\n",
      "|    B22|          2|\n",
      "|   C110|          1|\n",
      "|    D21|          1|\n",
      "|     F2|          3|\n",
      "|    B30|          1|\n",
      "|   C104|          1|\n",
      "|    B50|          1|\n",
      "|     A6|          1|\n",
      "+-------+-----------+\n",
      "only showing top 20 rows\n",
      "\n"
     ]
    }
   ],
   "source": [
    "spark.sql(\"FROM data SELECT Cabin, COUNT(Name) GROUP BY Cabin\").show() #not worth converting"
   ]
  },
  {
   "cell_type": "code",
   "execution_count": 17,
   "metadata": {},
   "outputs": [
    {
     "name": "stdout",
     "output_type": "stream",
     "text": [
      "+------+-----------+\n",
      "|Pclass|count(Name)|\n",
      "+------+-----------+\n",
      "|     1|        216|\n",
      "|     3|        491|\n",
      "|     2|        184|\n",
      "+------+-----------+\n",
      "\n"
     ]
    }
   ],
   "source": [
    "spark.sql(\"FROM data SELECT Pclass, COUNT(Name) GROUP BY Pclass\").show()"
   ]
  },
  {
   "cell_type": "code",
   "execution_count": 18,
   "metadata": {},
   "outputs": [
    {
     "data": {
      "text/plain": [
       "['PassengerId',\n",
       " 'Survived',\n",
       " 'Pclass',\n",
       " 'Name',\n",
       " 'Sex',\n",
       " 'Age',\n",
       " 'SibSp',\n",
       " 'Parch',\n",
       " 'Ticket',\n",
       " 'Fare',\n",
       " 'Cabin',\n",
       " 'Embarked']"
      ]
     },
     "execution_count": 18,
     "metadata": {},
     "output_type": "execute_result"
    }
   ],
   "source": [
    "data.columns\n",
    "# Features: Pclass, Sex, Age, SibSp, Parch, Fare, Embarked\n",
    "#Label: Survived"
   ]
  },
  {
   "cell_type": "code",
   "execution_count": 19,
   "metadata": {},
   "outputs": [],
   "source": [
    "cols = data.select(['Survived', 'Pclass', 'Sex', 'Age', 'SibSp', 'Parch', 'Fare', 'Embarked'])"
   ]
  },
  {
   "cell_type": "code",
   "execution_count": 20,
   "metadata": {},
   "outputs": [],
   "source": [
    "#drop na\n",
    "final_data = cols.na.drop()"
   ]
  },
  {
   "cell_type": "code",
   "execution_count": 21,
   "metadata": {},
   "outputs": [],
   "source": [
    "#Index String\n",
    "from pyspark.ml.feature import StringIndexer, OneHotEncoder, VectorAssembler, VectorIndexer"
   ]
  },
  {
   "cell_type": "code",
   "execution_count": 22,
   "metadata": {},
   "outputs": [],
   "source": [
    "#create gender and embarked indexing objects for pipeline\n",
    "gender_indexer = StringIndexer(inputCol='Sex', outputCol='Sex_index')\n",
    "embarked_indexer = StringIndexer(inputCol='Embarked', outputCol='Embarked_index')"
   ]
  },
  {
   "cell_type": "code",
   "execution_count": 23,
   "metadata": {},
   "outputs": [],
   "source": [
    "##create gender and embarked encoding objects for pipeline\n",
    "#convert to binaries\n",
    "gender_encoder = OneHotEncoder(inputCol='Sex_index', outputCol='SexVec')\n",
    "embarked_encoder = OneHotEncoder(inputCol='Embarked_index', outputCol='EmbarkedVec')"
   ]
  },
  {
   "cell_type": "code",
   "execution_count": 24,
   "metadata": {},
   "outputs": [],
   "source": [
    "#create assemble object for pipeline\n",
    "assembler = VectorAssembler(inputCols=['Pclass', 'SexVec', 'Age', 'SibSp', 'Parch', 'Fare', 'EmbarkedVec'], \\\n",
    "                            outputCol='features')"
   ]
  },
  {
   "cell_type": "markdown",
   "metadata": {},
   "source": [
    "What a pipieline does is it sets up a series of tasks as stages, especially when you have complicated data steps. <br>\n",
    "If you have complex machine learning tasks, you will have to set up pipelines."
   ]
  },
  {
   "cell_type": "code",
   "execution_count": 25,
   "metadata": {},
   "outputs": [],
   "source": [
    "#Pipeline\n",
    "log_reg_titanic = LogisticRegression(featuresCol='features', labelCol='Survived')\n",
    "from pyspark.ml import Pipeline\n",
    "pipeline = Pipeline(stages=[gender_indexer,embarked_indexer, \\\n",
    "                           gender_encoder,embarked_encoder, \\\n",
    "                           assembler,log_reg_titanic])"
   ]
  },
  {
   "cell_type": "code",
   "execution_count": 26,
   "metadata": {},
   "outputs": [],
   "source": [
    "train, test = final_data.randomSplit([0.7,0.3])"
   ]
  },
  {
   "cell_type": "code",
   "execution_count": 27,
   "metadata": {},
   "outputs": [],
   "source": [
    "fit_model = pipeline.fit(train)"
   ]
  },
  {
   "cell_type": "code",
   "execution_count": 28,
   "metadata": {},
   "outputs": [],
   "source": [
    "results = fit_model.transform(test)"
   ]
  },
  {
   "cell_type": "code",
   "execution_count": 29,
   "metadata": {},
   "outputs": [
    {
     "name": "stdout",
     "output_type": "stream",
     "text": [
      "+--------+------+------+----+-----+-----+--------+--------+---------+--------------+-------------+-------------+--------------------+--------------------+--------------------+----------+\n",
      "|Survived|Pclass|   Sex| Age|SibSp|Parch|    Fare|Embarked|Sex_index|Embarked_index|       SexVec|  EmbarkedVec|            features|       rawPrediction|         probability|prediction|\n",
      "+--------+------+------+----+-----+-----+--------+--------+---------+--------------+-------------+-------------+--------------------+--------------------+--------------------+----------+\n",
      "|       0|     1|  male|19.0|    3|    2|   263.0|       S|      0.0|           0.0|(1,[0],[1.0])|(2,[0],[1.0])|[1.0,1.0,19.0,3.0...|[-0.1793953450574...|[0.455271057582,0...|       1.0|\n",
      "|       0|     1|  male|22.0|    0|    0|135.6333|       C|      0.0|           1.0|(1,[0],[1.0])|(2,[1],[1.0])|[1.0,1.0,22.0,0.0...|[-0.7627622857367...|[0.31804684474246...|       1.0|\n",
      "|       0|     1|  male|24.0|    0|    1|247.5208|       C|      0.0|           1.0|(1,[0],[1.0])|(2,[1],[1.0])|[1.0,1.0,24.0,0.0...|[-1.0053404647892...|[0.26789271881306...|       1.0|\n",
      "|       0|     1|  male|28.0|    0|    0|    47.1|       S|      0.0|           0.0|(1,[0],[1.0])|(2,[0],[1.0])|[1.0,1.0,28.0,0.0...|[0.05475433278726...|[0.51368516431527...|       0.0|\n",
      "|       0|     1|  male|29.0|    1|    0|    66.6|       S|      0.0|           0.0|(1,[0],[1.0])|(2,[0],[1.0])|[1.0,1.0,29.0,1.0...|[0.28050531627305...|[0.56967010459960...|       0.0|\n",
      "|       0|     1|  male|30.0|    0|    0|   27.75|       C|      0.0|           1.0|(1,[0],[1.0])|(2,[1],[1.0])|[1.0,1.0,30.0,0.0...|[-0.1420214568073...|[0.46455419454884...|       1.0|\n",
      "|       0|     1|  male|37.0|    1|    0|    53.1|       S|      0.0|           0.0|(1,[0],[1.0])|(2,[0],[1.0])|[1.0,1.0,37.0,1.0...|[0.62852987023881...|[0.65215604004653...|       0.0|\n",
      "|       0|     1|  male|38.0|    0|    1|153.4625|       S|      0.0|           0.0|(1,[0],[1.0])|(2,[0],[1.0])|[1.0,1.0,38.0,0.0...|[0.13715730603064...|[0.53423567284341...|       0.0|\n",
      "|       0|     1|  male|40.0|    0|    0|     0.0|       S|      0.0|           0.0|(1,[0],[1.0])|(2,[0],[1.0])|(8,[0,1,2,6],[1.0...|[0.65437302390368...|[0.65799523589115...|       0.0|\n",
      "|       0|     1|  male|44.0|    2|    0|    90.0|       Q|      0.0|           2.0|(1,[0],[1.0])|    (2,[],[])|[1.0,1.0,44.0,2.0...|[1.33400880683570...|[0.79150296532742...|       0.0|\n",
      "|       0|     1|  male|45.5|    0|    0|    28.5|       S|      0.0|           0.0|(1,[0],[1.0])|(2,[0],[1.0])|[1.0,1.0,45.5,0.0...|[0.78447269229838...|[0.68664328002663...|       0.0|\n",
      "|       0|     1|  male|46.0|    1|    0|  61.175|       S|      0.0|           0.0|(1,[0],[1.0])|(2,[0],[1.0])|[1.0,1.0,46.0,1.0...|[0.95284155221554...|[0.72168627791537...|       0.0|\n",
      "|       0|     1|  male|47.0|    0|    0| 34.0208|       S|      0.0|           0.0|(1,[0],[1.0])|(2,[0],[1.0])|[1.0,1.0,47.0,0.0...|[0.82646126200815...|[0.69560616278540...|       0.0|\n",
      "|       0|     1|  male|49.0|    1|    1|110.8833|       C|      0.0|           1.0|(1,[0],[1.0])|(2,[1],[1.0])|[1.0,1.0,49.0,1.0...|[0.59861350480808...|[0.64533903395354...|       0.0|\n",
      "|       0|     1|  male|50.0|    1|    0| 106.425|       C|      0.0|           1.0|(1,[0],[1.0])|(2,[1],[1.0])|[1.0,1.0,50.0,1.0...|[0.64666121415125...|[0.65625768098574...|       0.0|\n",
      "|       0|     1|  male|51.0|    0|    1| 61.3792|       C|      0.0|           1.0|(1,[0],[1.0])|(2,[1],[1.0])|[1.0,1.0,51.0,0.0...|[0.57543935377307...|[0.64001732794107...|       0.0|\n",
      "|       0|     1|  male|61.0|    0|    0|    33.5|       S|      0.0|           0.0|(1,[0],[1.0])|(2,[0],[1.0])|[1.0,1.0,61.0,0.0...|[1.36874569090117...|[0.79717742547145...|       0.0|\n",
      "|       0|     1|  male|62.0|    0|    0|   26.55|       S|      0.0|           0.0|(1,[0],[1.0])|(2,[0],[1.0])|[1.0,1.0,62.0,0.0...|[1.42745451579430...|[0.80650438997572...|       0.0|\n",
      "|       0|     2|female|38.0|    0|    0|    13.0|       S|      1.0|           0.0|    (1,[],[])|(2,[0],[1.0])|(8,[0,2,5,6],[2.0...|[-1.1582579477280...|[0.23898396922674...|       1.0|\n",
      "|       0|     2|female|57.0|    0|    0|    10.5|       S|      1.0|           0.0|    (1,[],[])|(2,[0],[1.0])|(8,[0,2,5,6],[2.0...|[-0.4171191382496...|[0.39720632014785...|       1.0|\n",
      "+--------+------+------+----+-----+-----+--------+--------+---------+--------------+-------------+-------------+--------------------+--------------------+--------------------+----------+\n",
      "only showing top 20 rows\n",
      "\n"
     ]
    }
   ],
   "source": [
    "results.show()"
   ]
  },
  {
   "cell_type": "code",
   "execution_count": 30,
   "metadata": {},
   "outputs": [],
   "source": [
    "from pyspark.ml.evaluation import BinaryClassificationEvaluator"
   ]
  },
  {
   "cell_type": "code",
   "execution_count": 31,
   "metadata": {},
   "outputs": [],
   "source": [
    "#create evaluation instance\n",
    "eval_results = BinaryClassificationEvaluator(rawPredictionCol='prediction', labelCol='Survived')"
   ]
  },
  {
   "cell_type": "code",
   "execution_count": 32,
   "metadata": {},
   "outputs": [
    {
     "data": {
      "text/plain": [
       "0.7264621033307106"
      ]
     },
     "execution_count": 32,
     "metadata": {},
     "output_type": "execute_result"
    }
   ],
   "source": [
    "eval_results.evaluate(results)"
   ]
  },
  {
   "cell_type": "markdown",
   "metadata": {},
   "source": [
    "Great Example: https://docs.databricks.com/spark/latest/mllib/binary-classification-mllib-pipelines.html"
   ]
  },
  {
   "cell_type": "code",
   "execution_count": null,
   "metadata": {},
   "outputs": [],
   "source": []
  }
 ],
 "metadata": {
  "kernelspec": {
   "display_name": "Python 3",
   "language": "python",
   "name": "python3"
  },
  "language_info": {
   "codemirror_mode": {
    "name": "ipython",
    "version": 3
   },
   "file_extension": ".py",
   "mimetype": "text/x-python",
   "name": "python",
   "nbconvert_exporter": "python",
   "pygments_lexer": "ipython3",
   "version": "3.6.6"
  }
 },
 "nbformat": 4,
 "nbformat_minor": 2
}
