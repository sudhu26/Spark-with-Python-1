{
 "cells": [
  {
   "cell_type": "code",
   "execution_count": 6,
   "metadata": {},
   "outputs": [],
   "source": [
    "import findspark\n",
    "findspark.init('/home/shashank/spark')"
   ]
  },
  {
   "cell_type": "code",
   "execution_count": 7,
   "metadata": {},
   "outputs": [],
   "source": [
    "import pyspark"
   ]
  },
  {
   "cell_type": "code",
   "execution_count": 8,
   "metadata": {},
   "outputs": [],
   "source": [
    "from pyspark.sql import SparkSession"
   ]
  },
  {
   "cell_type": "code",
   "execution_count": 9,
   "metadata": {},
   "outputs": [],
   "source": [
    "spark = SparkSession.builder.appName('ca').getOrCreate()"
   ]
  },
  {
   "cell_type": "code",
   "execution_count": 10,
   "metadata": {},
   "outputs": [],
   "source": [
    "from pyspark.ml.feature import (HashingTF, IDF, CountVectorizer, Tokenizer, RegexTokenizer,\n",
    "                                    StopWordsRemover, NGram, StringIndexer)"
   ]
  },
  {
   "cell_type": "markdown",
   "metadata": {},
   "source": [
    "# build a spam detection param"
   ]
  },
  {
   "cell_type": "code",
   "execution_count": 11,
   "metadata": {},
   "outputs": [],
   "source": [
    "data = spark.read.csv('smsspamcollection/SMSSpamCollection', inferSchema=True, sep = '\\t')"
   ]
  },
  {
   "cell_type": "code",
   "execution_count": 12,
   "metadata": {},
   "outputs": [
    {
     "name": "stdout",
     "output_type": "stream",
     "text": [
      "+----+--------------------+\n",
      "| _c0|                 _c1|\n",
      "+----+--------------------+\n",
      "| ham|Go until jurong p...|\n",
      "| ham|Ok lar... Joking ...|\n",
      "|spam|Free entry in 2 a...|\n",
      "| ham|U dun say so earl...|\n",
      "| ham|Nah I don't think...|\n",
      "|spam|FreeMsg Hey there...|\n",
      "| ham|Even my brother i...|\n",
      "| ham|As per your reque...|\n",
      "|spam|WINNER!! As a val...|\n",
      "|spam|Had your mobile 1...|\n",
      "| ham|I'm gonna be home...|\n",
      "|spam|SIX chances to wi...|\n",
      "|spam|URGENT! You have ...|\n",
      "| ham|I've been searchi...|\n",
      "| ham|I HAVE A DATE ON ...|\n",
      "|spam|XXXMobileMovieClu...|\n",
      "| ham|Oh k...i'm watchi...|\n",
      "| ham|Eh u remember how...|\n",
      "| ham|Fine if thats th...|\n",
      "|spam|England v Macedon...|\n",
      "+----+--------------------+\n",
      "only showing top 20 rows\n",
      "\n"
     ]
    }
   ],
   "source": [
    "data.show()"
   ]
  },
  {
   "cell_type": "code",
   "execution_count": 13,
   "metadata": {},
   "outputs": [],
   "source": [
    "data.createOrReplaceTempView('data')"
   ]
  },
  {
   "cell_type": "code",
   "execution_count": 14,
   "metadata": {},
   "outputs": [],
   "source": [
    "data2 = spark.sql(\"FROM data SELECT _c0 AS class_spam, _c1 AS text\")"
   ]
  },
  {
   "cell_type": "code",
   "execution_count": 15,
   "metadata": {},
   "outputs": [
    {
     "name": "stdout",
     "output_type": "stream",
     "text": [
      "+----------+--------------------+\n",
      "|class_spam|                text|\n",
      "+----------+--------------------+\n",
      "|       ham|Go until jurong p...|\n",
      "|       ham|Ok lar... Joking ...|\n",
      "|      spam|Free entry in 2 a...|\n",
      "|       ham|U dun say so earl...|\n",
      "|       ham|Nah I don't think...|\n",
      "|      spam|FreeMsg Hey there...|\n",
      "|       ham|Even my brother i...|\n",
      "|       ham|As per your reque...|\n",
      "|      spam|WINNER!! As a val...|\n",
      "|      spam|Had your mobile 1...|\n",
      "|       ham|I'm gonna be home...|\n",
      "|      spam|SIX chances to wi...|\n",
      "|      spam|URGENT! You have ...|\n",
      "|       ham|I've been searchi...|\n",
      "|       ham|I HAVE A DATE ON ...|\n",
      "|      spam|XXXMobileMovieClu...|\n",
      "|       ham|Oh k...i'm watchi...|\n",
      "|       ham|Eh u remember how...|\n",
      "|       ham|Fine if thats th...|\n",
      "|      spam|England v Macedon...|\n",
      "+----------+--------------------+\n",
      "only showing top 20 rows\n",
      "\n"
     ]
    }
   ],
   "source": [
    "data2.show()"
   ]
  },
  {
   "cell_type": "code",
   "execution_count": 16,
   "metadata": {},
   "outputs": [],
   "source": [
    "from pyspark.sql.functions import length"
   ]
  },
  {
   "cell_type": "code",
   "execution_count": 17,
   "metadata": {},
   "outputs": [],
   "source": [
    "data2.createOrReplaceTempView('data2')"
   ]
  },
  {
   "cell_type": "code",
   "execution_count": 18,
   "metadata": {},
   "outputs": [],
   "source": [
    "data3 = spark.sql(\"FROM data2 SELECT class_spam, text, LENGTH(text) AS len\")"
   ]
  },
  {
   "cell_type": "code",
   "execution_count": 19,
   "metadata": {},
   "outputs": [
    {
     "name": "stdout",
     "output_type": "stream",
     "text": [
      "+----------+--------------------+---+\n",
      "|class_spam|                text|len|\n",
      "+----------+--------------------+---+\n",
      "|       ham|Go until jurong p...|111|\n",
      "|       ham|Ok lar... Joking ...| 29|\n",
      "|      spam|Free entry in 2 a...|155|\n",
      "|       ham|U dun say so earl...| 49|\n",
      "|       ham|Nah I don't think...| 61|\n",
      "|      spam|FreeMsg Hey there...|147|\n",
      "|       ham|Even my brother i...| 77|\n",
      "|       ham|As per your reque...|160|\n",
      "|      spam|WINNER!! As a val...|157|\n",
      "|      spam|Had your mobile 1...|154|\n",
      "|       ham|I'm gonna be home...|109|\n",
      "|      spam|SIX chances to wi...|136|\n",
      "|      spam|URGENT! You have ...|155|\n",
      "|       ham|I've been searchi...|196|\n",
      "|       ham|I HAVE A DATE ON ...| 35|\n",
      "|      spam|XXXMobileMovieClu...|149|\n",
      "|       ham|Oh k...i'm watchi...| 26|\n",
      "|       ham|Eh u remember how...| 81|\n",
      "|       ham|Fine if thats th...| 56|\n",
      "|      spam|England v Macedon...|155|\n",
      "+----------+--------------------+---+\n",
      "only showing top 20 rows\n",
      "\n"
     ]
    }
   ],
   "source": [
    "data3.show()"
   ]
  },
  {
   "cell_type": "code",
   "execution_count": 20,
   "metadata": {},
   "outputs": [],
   "source": [
    "data3.createOrReplaceTempView('data3')"
   ]
  },
  {
   "cell_type": "code",
   "execution_count": 21,
   "metadata": {},
   "outputs": [
    {
     "name": "stdout",
     "output_type": "stream",
     "text": [
      "+----------+-----------------+\n",
      "|class_spam|         avg(len)|\n",
      "+----------+-----------------+\n",
      "|       ham|71.45431945307645|\n",
      "|      spam|138.6706827309237|\n",
      "+----------+-----------------+\n",
      "\n"
     ]
    }
   ],
   "source": [
    "spark.sql(\"FROM data3 SELECT class_spam, AVG(len) GROUP BY class_spam\").show()"
   ]
  },
  {
   "cell_type": "code",
   "execution_count": 22,
   "metadata": {},
   "outputs": [],
   "source": [
    "tokenizer = Tokenizer(inputCol='text', outputCol='token_text')"
   ]
  },
  {
   "cell_type": "code",
   "execution_count": 23,
   "metadata": {},
   "outputs": [],
   "source": [
    "stop_remove = StopWordsRemover(inputCol='token_text', outputCol='stop_tokens')"
   ]
  },
  {
   "cell_type": "code",
   "execution_count": 24,
   "metadata": {},
   "outputs": [],
   "source": [
    "count_vec = CountVectorizer(inputCol='stop_tokens', outputCol='c_vec')"
   ]
  },
  {
   "cell_type": "code",
   "execution_count": 25,
   "metadata": {},
   "outputs": [],
   "source": [
    "idf = IDF(inputCol='c_vec', outputCol='tf_idf')"
   ]
  },
  {
   "cell_type": "code",
   "execution_count": 26,
   "metadata": {},
   "outputs": [],
   "source": [
    "ham_spam_to_numeric = StringIndexer(inputCol='class_spam', outputCol='label')"
   ]
  },
  {
   "cell_type": "code",
   "execution_count": 27,
   "metadata": {},
   "outputs": [],
   "source": [
    "from pyspark.ml.feature import VectorAssembler"
   ]
  },
  {
   "cell_type": "code",
   "execution_count": 28,
   "metadata": {},
   "outputs": [],
   "source": [
    "clean_up = VectorAssembler(inputCols=['tf_idf', 'len'], outputCol='features')"
   ]
  },
  {
   "cell_type": "code",
   "execution_count": 29,
   "metadata": {},
   "outputs": [],
   "source": [
    "from pyspark.ml.classification import NaiveBayes"
   ]
  },
  {
   "cell_type": "code",
   "execution_count": 30,
   "metadata": {},
   "outputs": [],
   "source": [
    "nb = NaiveBayes() #use all defaults"
   ]
  },
  {
   "cell_type": "code",
   "execution_count": 31,
   "metadata": {},
   "outputs": [],
   "source": [
    "from pyspark.ml import Pipeline"
   ]
  },
  {
   "cell_type": "code",
   "execution_count": 32,
   "metadata": {},
   "outputs": [],
   "source": [
    "data_prep_pipe = Pipeline(stages=[ham_spam_to_numeric, tokenizer, stop_remove, count_vec, idf, clean_up])"
   ]
  },
  {
   "cell_type": "code",
   "execution_count": 33,
   "metadata": {},
   "outputs": [],
   "source": [
    "clean_data = data_prep_pipe.fit(data3).transform(data3)"
   ]
  },
  {
   "cell_type": "code",
   "execution_count": 34,
   "metadata": {},
   "outputs": [
    {
     "name": "stdout",
     "output_type": "stream",
     "text": [
      "+----------+--------------------+---+-----+--------------------+--------------------+--------------------+--------------------+--------------------+\n",
      "|class_spam|                text|len|label|          token_text|         stop_tokens|               c_vec|              tf_idf|            features|\n",
      "+----------+--------------------+---+-----+--------------------+--------------------+--------------------+--------------------+--------------------+\n",
      "|       ham|Go until jurong p...|111|  0.0|[go, until, juron...|[go, jurong, poin...|(13423,[7,11,31,6...|(13423,[7,11,31,6...|(13424,[7,11,31,6...|\n",
      "|       ham|Ok lar... Joking ...| 29|  0.0|[ok, lar..., joki...|[ok, lar..., joki...|(13423,[0,24,297,...|(13423,[0,24,297,...|(13424,[0,24,297,...|\n",
      "|      spam|Free entry in 2 a...|155|  1.0|[free, entry, in,...|[free, entry, 2, ...|(13423,[2,13,19,3...|(13423,[2,13,19,3...|(13424,[2,13,19,3...|\n",
      "|       ham|U dun say so earl...| 49|  0.0|[u, dun, say, so,...|[u, dun, say, ear...|(13423,[0,70,80,1...|(13423,[0,70,80,1...|(13424,[0,70,80,1...|\n",
      "|       ham|Nah I don't think...| 61|  0.0|[nah, i, don't, t...|[nah, think, goes...|(13423,[36,134,31...|(13423,[36,134,31...|(13424,[36,134,31...|\n",
      "|      spam|FreeMsg Hey there...|147|  1.0|[freemsg, hey, th...|[freemsg, hey, da...|(13423,[10,60,139...|(13423,[10,60,139...|(13424,[10,60,139...|\n",
      "|       ham|Even my brother i...| 77|  0.0|[even, my, brothe...|[even, brother, l...|(13423,[10,53,103...|(13423,[10,53,103...|(13424,[10,53,103...|\n",
      "|       ham|As per your reque...|160|  0.0|[as, per, your, r...|[per, request, 'm...|(13423,[125,184,4...|(13423,[125,184,4...|(13424,[125,184,4...|\n",
      "|      spam|WINNER!! As a val...|157|  1.0|[winner!!, as, a,...|[winner!!, valued...|(13423,[1,47,118,...|(13423,[1,47,118,...|(13424,[1,47,118,...|\n",
      "|      spam|Had your mobile 1...|154|  1.0|[had, your, mobil...|[mobile, 11, mont...|(13423,[0,1,13,27...|(13423,[0,1,13,27...|(13424,[0,1,13,27...|\n",
      "|       ham|I'm gonna be home...|109|  0.0|[i'm, gonna, be, ...|[gonna, home, soo...|(13423,[18,43,120...|(13423,[18,43,120...|(13424,[18,43,120...|\n",
      "|      spam|SIX chances to wi...|136|  1.0|[six, chances, to...|[six, chances, wi...|(13423,[8,17,37,8...|(13423,[8,17,37,8...|(13424,[8,17,37,8...|\n",
      "|      spam|URGENT! You have ...|155|  1.0|[urgent!, you, ha...|[urgent!, won, 1,...|(13423,[13,30,47,...|(13423,[13,30,47,...|(13424,[13,30,47,...|\n",
      "|       ham|I've been searchi...|196|  0.0|[i've, been, sear...|[searching, right...|(13423,[39,96,217...|(13423,[39,96,217...|(13424,[39,96,217...|\n",
      "|       ham|I HAVE A DATE ON ...| 35|  0.0|[i, have, a, date...|[date, sunday, wi...|(13423,[552,1697,...|(13423,[552,1697,...|(13424,[552,1697,...|\n",
      "|      spam|XXXMobileMovieClu...|149|  1.0|[xxxmobilemoviecl...|[xxxmobilemoviecl...|(13423,[30,109,11...|(13423,[30,109,11...|(13424,[30,109,11...|\n",
      "|       ham|Oh k...i'm watchi...| 26|  0.0|[oh, k...i'm, wat...|[oh, k...i'm, wat...|(13423,[82,214,47...|(13423,[82,214,47...|(13424,[82,214,47...|\n",
      "|       ham|Eh u remember how...| 81|  0.0|[eh, u, remember,...|[eh, u, remember,...|(13423,[0,2,49,13...|(13423,[0,2,49,13...|(13424,[0,2,49,13...|\n",
      "|       ham|Fine if thats th...| 56|  0.0|[fine, if, thats...|[fine, thats, wa...|(13423,[0,74,105,...|(13423,[0,74,105,...|(13424,[0,74,105,...|\n",
      "|      spam|England v Macedon...|155|  1.0|[england, v, mace...|[england, v, mace...|(13423,[4,30,33,5...|(13423,[4,30,33,5...|(13424,[4,30,33,5...|\n",
      "+----------+--------------------+---+-----+--------------------+--------------------+--------------------+--------------------+--------------------+\n",
      "only showing top 20 rows\n",
      "\n"
     ]
    }
   ],
   "source": [
    "clean_data.show()"
   ]
  },
  {
   "cell_type": "code",
   "execution_count": 35,
   "metadata": {},
   "outputs": [],
   "source": [
    "train, test = clean_data.randomSplit([0.7,0.3])"
   ]
  },
  {
   "cell_type": "code",
   "execution_count": 36,
   "metadata": {},
   "outputs": [],
   "source": [
    "spam_detector = nb.fit(train)"
   ]
  },
  {
   "cell_type": "code",
   "execution_count": 37,
   "metadata": {},
   "outputs": [],
   "source": [
    "test_results = spam_detector.transform(test)"
   ]
  },
  {
   "cell_type": "code",
   "execution_count": 38,
   "metadata": {},
   "outputs": [
    {
     "name": "stdout",
     "output_type": "stream",
     "text": [
      "+----------+--------------------+---+-----+--------------------+--------------------+--------------------+--------------------+--------------------+--------------------+--------------------+----------+\n",
      "|class_spam|                text|len|label|          token_text|         stop_tokens|               c_vec|              tf_idf|            features|       rawPrediction|         probability|prediction|\n",
      "+----------+--------------------+---+-----+--------------------+--------------------+--------------------+--------------------+--------------------+--------------------+--------------------+----------+\n",
      "|       ham| &lt;#&gt;  mins ...| 51|  0.0|[, &lt;#&gt;, , m...|[, &lt;#&gt;, , m...|(13423,[3,6,41,20...|(13423,[3,6,41,20...|(13424,[3,6,41,20...|[-298.50954793164...|[1.0,4.2601326582...|       0.0|\n",
      "|       ham| what number do u...| 36|  0.0|[, what, number, ...|[, number, u, liv...|(13423,[0,3,86,19...|(13423,[0,3,86,19...|(13424,[0,3,86,19...|[-309.71982965587...|[0.99999973791163...|       0.0|\n",
      "|       ham|\"Speak only when ...| 80|  0.0|[\"speak, only, wh...|[\"speak, feel, wo...|(13423,[115,116,2...|(13423,[115,116,2...|(13424,[115,116,2...|[-517.78196367788...|[1.0,2.3797802941...|       0.0|\n",
      "|       ham|&lt;#&gt; %of ppl...|327|  0.0|[&lt;#&gt;, %of, ...|[&lt;#&gt;, %of, ...|(13423,[0,2,3,5,6...|(13423,[0,2,3,5,6...|(13424,[0,2,3,5,6...|[-2581.1919601250...|[1.0,1.0564489068...|       0.0|\n",
      "|       ham|(And my man carlo...| 66|  0.0|[(and, my, man, c...|[(and, man, carlo...|(13423,[165,250,6...|(13423,[165,250,6...|(13424,[165,250,6...|[-571.96816062664...|[1.0,1.6142446267...|       0.0|\n",
      "|       ham|(I should add tha...|132|  0.0|[(i, should, add,...|[(i, add, really,...|(13423,[5,18,71,1...|(13423,[5,18,71,1...|(13424,[5,18,71,1...|[-704.83981782507...|[1.0,6.2441122015...|       0.0|\n",
      "|       ham|(That said can yo...| 43|  0.0|[(that, said, can...|[(that, said, tex...|(13423,[19,29,94,...|(13423,[19,29,94,...|(13424,[19,29,94,...|[-318.00739017494...|[0.99959208210454...|       0.0|\n",
      "|       ham|* Thought I didn'...| 27|  0.0|[*, thought, i, d...|[*, thought, see,...|(13423,[32,66,168...|(13423,[32,66,168...|(13424,[32,66,168...|[-154.80651436911...|[1.0,7.6366926312...|       0.0|\n",
      "|       ham|* Was a nice day ...|140|  0.0|[*, was, a, nice,...|[*, nice, day, an...|(13423,[43,45,108...|(13423,[43,45,108...|(13424,[43,45,108...|[-976.69208224811...|[1.0,3.4483771330...|       0.0|\n",
      "|       ham|* Will be septemb...| 28|  0.0|[*, will, be, sep...|[*, september, th...|(13423,[195,2396,...|(13423,[195,2396,...|(13424,[195,2396,...|[-237.03906262034...|[0.99999215698676...|       0.0|\n",
      "|       ham|....photoshop mak...| 42|  0.0|[....photoshop, m...|[....photoshop, m...|(13423,[357,864,2...|(13423,[357,864,2...|(13424,[357,864,2...|[-383.34524777725...|[1.0,1.0863832846...|       0.0|\n",
      "|       ham|1) Go to write ms...|141|  0.0|[1), go, to, writ...|[1), go, write, m...|(13423,[3,4,6,7,9...|(13423,[3,4,6,7,9...|(13424,[3,4,6,7,9...|[-1178.2573501476...|[1.0,1.1720540517...|       0.0|\n",
      "|       ham|1Apple/Day=No Doc...|154|  0.0|[1apple/day=no, d...|[1apple/day=no, d...|(13423,[0,2,139,1...|(13423,[0,2,139,1...|(13424,[0,2,139,1...|[-1790.6559213662...|[9.69229725442736...|       1.0|\n",
      "|       ham|2 celebrate my b...| 29|  0.0|[2, celebrate, my...|[2, celebrate, b...|(13423,[2,186,218...|(13423,[2,186,218...|(13424,[2,186,218...|[-321.22248300368...|[1.0,3.0393655983...|       0.0|\n",
      "|       ham|2 laptop... I noe...| 58|  0.0|[2, laptop..., i,...|[2, laptop..., no...|(13423,[2,29,135,...|(13423,[2,29,135,...|(13424,[2,29,135,...|[-540.02678416472...|[1.0,2.1171226408...|       0.0|\n",
      "|       ham|2mro i am not com...| 46|  0.0|[2mro, i, am, not...|[2mro, coming, gy...|(13423,[165,1238,...|(13423,[165,1238,...|(13424,[165,1238,...|[-402.61323965368...|[0.99999999999999...|       0.0|\n",
      "|       ham|3 pa but not sele...| 22|  0.0|[3, pa, but, not,...|  [3, pa, selected.]|(13423,[139,889,1...|(13423,[139,889,1...|(13424,[139,889,1...|[-212.65499060330...|[0.99993402378928...|       0.0|\n",
      "|       ham|4 oclock at mine....| 47|  0.0|[4, oclock, at, m...|[4, oclock, mine....|(13423,[8,2580,27...|(13423,[8,2580,27...|(13424,[8,2580,27...|[-483.86756901356...|[0.99999998830755...|       0.0|\n",
      "|       ham|                 645|  3|  0.0|               [645]|               [645]|(13423,[11401],[1...|(13423,[11401],[7...|(13424,[11401,134...|[-104.65726372591...|[0.00118176734247...|       1.0|\n",
      "|       ham|7 wonders in My W...|151|  0.0|[7, wonders, in, ...|[7, wonders, worl...|(13423,[4,15,65,1...|(13423,[4,15,65,1...|(13424,[4,15,65,1...|[-1382.6748538983...|[1.0,3.3780450072...|       0.0|\n",
      "+----------+--------------------+---+-----+--------------------+--------------------+--------------------+--------------------+--------------------+--------------------+--------------------+----------+\n",
      "only showing top 20 rows\n",
      "\n"
     ]
    }
   ],
   "source": [
    "test_results.show()"
   ]
  },
  {
   "cell_type": "code",
   "execution_count": 39,
   "metadata": {},
   "outputs": [],
   "source": [
    "from pyspark.ml.evaluation import MulticlassClassificationEvaluator"
   ]
  },
  {
   "cell_type": "code",
   "execution_count": 40,
   "metadata": {},
   "outputs": [],
   "source": [
    "acc_eval = MulticlassClassificationEvaluator()"
   ]
  },
  {
   "cell_type": "code",
   "execution_count": 41,
   "metadata": {},
   "outputs": [],
   "source": [
    "accuracy = acc_eval.evaluate(test_results)"
   ]
  },
  {
   "cell_type": "code",
   "execution_count": 42,
   "metadata": {},
   "outputs": [
    {
     "name": "stdout",
     "output_type": "stream",
     "text": [
      "Accuracy\n",
      "0.9275291002810677\n"
     ]
    }
   ],
   "source": [
    "print(\"Accuracy\")\n",
    "print(accuracy)"
   ]
  },
  {
   "cell_type": "markdown",
   "metadata": {},
   "source": [
    "# Random Forest"
   ]
  },
  {
   "cell_type": "code",
   "execution_count": 43,
   "metadata": {},
   "outputs": [],
   "source": [
    "from pyspark.ml.classification import RandomForestClassifier"
   ]
  },
  {
   "cell_type": "code",
   "execution_count": 44,
   "metadata": {},
   "outputs": [],
   "source": [
    "rf_model = RandomForestClassifier()"
   ]
  },
  {
   "cell_type": "code",
   "execution_count": 45,
   "metadata": {},
   "outputs": [],
   "source": [
    "spam_detector_rf = rf_model.fit(train)"
   ]
  },
  {
   "cell_type": "code",
   "execution_count": 46,
   "metadata": {},
   "outputs": [],
   "source": [
    "test_results_rf = spam_detector_rf.transform(test)"
   ]
  },
  {
   "cell_type": "code",
   "execution_count": 47,
   "metadata": {},
   "outputs": [],
   "source": [
    "accuracy_rf = acc_eval.evaluate(test_results_rf)"
   ]
  },
  {
   "cell_type": "code",
   "execution_count": 48,
   "metadata": {},
   "outputs": [
    {
     "name": "stdout",
     "output_type": "stream",
     "text": [
      "Accuracy - Random Forest\n",
      "0.8021539530555728\n"
     ]
    }
   ],
   "source": [
    "print(\"Accuracy - Random Forest\")\n",
    "print(accuracy_rf)"
   ]
  },
  {
   "cell_type": "markdown",
   "metadata": {},
   "source": [
    "**Check out other classifiers in the classification module and play around with parameters to see what gives you the best prediction.**\n"
   ]
  },
  {
   "cell_type": "code",
   "execution_count": null,
   "metadata": {},
   "outputs": [],
   "source": []
  }
 ],
 "metadata": {
  "kernelspec": {
   "display_name": "Python 3",
   "language": "python",
   "name": "python3"
  },
  "language_info": {
   "codemirror_mode": {
    "name": "ipython",
    "version": 3
   },
   "file_extension": ".py",
   "mimetype": "text/x-python",
   "name": "python",
   "nbconvert_exporter": "python",
   "pygments_lexer": "ipython3",
   "version": "3.6.6"
  }
 },
 "nbformat": 4,
 "nbformat_minor": 2
}
