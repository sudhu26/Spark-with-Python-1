{
 "cells": [
  {
   "cell_type": "code",
   "execution_count": 1,
   "metadata": {},
   "outputs": [],
   "source": [
    "import findspark\n",
    "findspark.init('/home/shashank/spark-2.3.2-bin-hadoop2.7')"
   ]
  },
  {
   "cell_type": "code",
   "execution_count": 2,
   "metadata": {},
   "outputs": [],
   "source": [
    "import pyspark\n",
    "from pyspark.sql import SparkSession"
   ]
  },
  {
   "cell_type": "code",
   "execution_count": 3,
   "metadata": {},
   "outputs": [],
   "source": [
    "spark = SparkSession.builder.appName('dog_food').getOrCreate()"
   ]
  },
  {
   "cell_type": "code",
   "execution_count": 4,
   "metadata": {},
   "outputs": [],
   "source": [
    "data = spark.read.csv('dog_food.csv', inferSchema=True, header=True)"
   ]
  },
  {
   "cell_type": "code",
   "execution_count": 5,
   "metadata": {},
   "outputs": [
    {
     "name": "stdout",
     "output_type": "stream",
     "text": [
      "root\n",
      " |-- A: integer (nullable = true)\n",
      " |-- B: integer (nullable = true)\n",
      " |-- C: double (nullable = true)\n",
      " |-- D: integer (nullable = true)\n",
      " |-- Spoiled: double (nullable = true)\n",
      "\n"
     ]
    }
   ],
   "source": [
    "data.printSchema()"
   ]
  },
  {
   "cell_type": "code",
   "execution_count": 8,
   "metadata": {},
   "outputs": [],
   "source": [
    "data.createOrReplaceTempView('data')"
   ]
  },
  {
   "cell_type": "code",
   "execution_count": 10,
   "metadata": {},
   "outputs": [
    {
     "name": "stdout",
     "output_type": "stream",
     "text": [
      "+-------+-----------------+-----------------+------------------+------------------+\n",
      "|Spoiled|           avg(A)|           avg(B)|            avg(C)|            avg(D)|\n",
      "+-------+-----------------+-----------------+------------------+------------------+\n",
      "|    0.0|5.422857142857143|             5.66|  8.01142857142857|5.6085714285714285|\n",
      "|    1.0|5.814285714285714|5.114285714285714|11.914285714285715| 5.507142857142857|\n",
      "+-------+-----------------+-----------------+------------------+------------------+\n",
      "\n"
     ]
    }
   ],
   "source": [
    "spark.sql(\"FROM data SELECT Spoiled, AVG(A), AVG(B) , AVG(C), AVG(D) GROUP BY Spoiled\").show()"
   ]
  },
  {
   "cell_type": "markdown",
   "metadata": {},
   "source": [
    "Just looking at averages, we can see that there is a big difference between spoiled and good for Chemical C"
   ]
  },
  {
   "cell_type": "code",
   "execution_count": 11,
   "metadata": {},
   "outputs": [],
   "source": [
    "from pyspark.ml.classification import LogisticRegression, DecisionTreeClassifier, RandomForestClassifier, GBTClassifier"
   ]
  },
  {
   "cell_type": "code",
   "execution_count": 12,
   "metadata": {},
   "outputs": [
    {
     "data": {
      "text/plain": [
       "['A', 'B', 'C', 'D', 'Spoiled']"
      ]
     },
     "execution_count": 12,
     "metadata": {},
     "output_type": "execute_result"
    }
   ],
   "source": [
    "data.columns"
   ]
  },
  {
   "cell_type": "code",
   "execution_count": 13,
   "metadata": {},
   "outputs": [],
   "source": [
    "from pyspark.ml.feature import VectorAssembler"
   ]
  },
  {
   "cell_type": "code",
   "execution_count": 14,
   "metadata": {},
   "outputs": [],
   "source": [
    "assembler = VectorAssembler(inputCols=['A', 'B', 'C', 'D'], outputCol='features')"
   ]
  },
  {
   "cell_type": "code",
   "execution_count": 15,
   "metadata": {},
   "outputs": [
    {
     "data": {
      "text/plain": [
       "Row(A=4, B=2, C=12.0, D=3, Spoiled=1.0, features=DenseVector([4.0, 2.0, 12.0, 3.0]))"
      ]
     },
     "execution_count": 15,
     "metadata": {},
     "output_type": "execute_result"
    }
   ],
   "source": [
    "output = assembler.transform(data)\n",
    "output.head()"
   ]
  },
  {
   "cell_type": "code",
   "execution_count": 16,
   "metadata": {},
   "outputs": [],
   "source": [
    "output.createOrReplaceTempView('output')"
   ]
  },
  {
   "cell_type": "code",
   "execution_count": 17,
   "metadata": {},
   "outputs": [],
   "source": [
    "final_data = spark.sql(\"FROM output SELECT features, Spoiled AS label\")"
   ]
  },
  {
   "cell_type": "code",
   "execution_count": 18,
   "metadata": {
    "scrolled": true
   },
   "outputs": [
    {
     "name": "stdout",
     "output_type": "stream",
     "text": [
      "+-------------------+-----+\n",
      "|           features|label|\n",
      "+-------------------+-----+\n",
      "| [4.0,2.0,12.0,3.0]|  1.0|\n",
      "| [5.0,6.0,12.0,7.0]|  1.0|\n",
      "| [6.0,2.0,13.0,6.0]|  1.0|\n",
      "| [4.0,2.0,12.0,1.0]|  1.0|\n",
      "| [4.0,2.0,12.0,3.0]|  1.0|\n",
      "|[10.0,3.0,13.0,9.0]|  1.0|\n",
      "| [8.0,5.0,14.0,5.0]|  1.0|\n",
      "| [5.0,8.0,12.0,8.0]|  1.0|\n",
      "| [6.0,5.0,12.0,9.0]|  1.0|\n",
      "| [3.0,3.0,12.0,1.0]|  1.0|\n",
      "| [9.0,8.0,11.0,3.0]|  1.0|\n",
      "|[1.0,10.0,12.0,3.0]|  1.0|\n",
      "|[1.0,5.0,13.0,10.0]|  1.0|\n",
      "|[2.0,10.0,12.0,6.0]|  1.0|\n",
      "|[1.0,10.0,11.0,4.0]|  1.0|\n",
      "| [5.0,3.0,12.0,2.0]|  1.0|\n",
      "| [4.0,9.0,11.0,8.0]|  1.0|\n",
      "| [5.0,1.0,11.0,1.0]|  1.0|\n",
      "|[4.0,9.0,12.0,10.0]|  1.0|\n",
      "| [5.0,8.0,10.0,9.0]|  1.0|\n",
      "+-------------------+-----+\n",
      "only showing top 20 rows\n",
      "\n"
     ]
    }
   ],
   "source": [
    "final_data.show()"
   ]
  },
  {
   "cell_type": "code",
   "execution_count": 43,
   "metadata": {},
   "outputs": [],
   "source": [
    "#check first with default models\n",
    "lr_model = LogisticRegression()\n",
    "dtc_model = DecisionTreeClassifier()\n",
    "rfc_model = RandomForestClassifier()\n",
    "gbc_model = GBTClassifier()\n",
    "lr_fit = lr_model.fit(final_data)\n",
    "dtc_fit = dtc_model.fit(final_data)\n",
    "rfc_fit = rfc_model.fit(final_data)\n",
    "gbc_fit = gbc_model.fit(final_data)"
   ]
  },
  {
   "cell_type": "code",
   "execution_count": 47,
   "metadata": {},
   "outputs": [
    {
     "data": {
      "text/plain": [
       "SparseVector(4, {0: 0.0135, 1: 0.0231, 2: 0.9406, 3: 0.0228})"
      ]
     },
     "execution_count": 47,
     "metadata": {},
     "output_type": "execute_result"
    }
   ],
   "source": [
    "rfc_fit.featureImportances\n",
    "#Chemical C"
   ]
  },
  {
   "cell_type": "code",
   "execution_count": 48,
   "metadata": {},
   "outputs": [
    {
     "data": {
      "text/plain": [
       "SparseVector(4, {0: 0.0026, 1: 0.0089, 2: 0.9686, 3: 0.0199})"
      ]
     },
     "execution_count": 48,
     "metadata": {},
     "output_type": "execute_result"
    }
   ],
   "source": [
    "dtc_fit.featureImportances\n",
    "#Chemical C"
   ]
  },
  {
   "cell_type": "code",
   "execution_count": 49,
   "metadata": {},
   "outputs": [
    {
     "data": {
      "text/plain": [
       "SparseVector(4, {0: 0.0434, 1: 0.0539, 2: 0.7923, 3: 0.1104})"
      ]
     },
     "execution_count": 49,
     "metadata": {},
     "output_type": "execute_result"
    }
   ],
   "source": [
    "gbc_fit.featureImportances"
   ]
  },
  {
   "cell_type": "code",
   "execution_count": 51,
   "metadata": {},
   "outputs": [
    {
     "data": {
      "text/plain": [
       "DenseVector([-0.1349, -0.1067, 4.3961, -0.213])"
      ]
     },
     "execution_count": 51,
     "metadata": {},
     "output_type": "execute_result"
    }
   ],
   "source": [
    "lr_fit.coefficients\n",
    "#chemical C"
   ]
  },
  {
   "cell_type": "code",
   "execution_count": null,
   "metadata": {},
   "outputs": [],
   "source": []
  }
 ],
 "metadata": {
  "kernelspec": {
   "display_name": "Python 3",
   "language": "python",
   "name": "python3"
  },
  "language_info": {
   "codemirror_mode": {
    "name": "ipython",
    "version": 3
   },
   "file_extension": ".py",
   "mimetype": "text/x-python",
   "name": "python",
   "nbconvert_exporter": "python",
   "pygments_lexer": "ipython3",
   "version": "3.6.6"
  }
 },
 "nbformat": 4,
 "nbformat_minor": 2
}
